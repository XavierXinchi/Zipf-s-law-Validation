{
 "cells": [
  {
   "cell_type": "code",
   "execution_count": 1,
   "id": "9330ad8a",
   "metadata": {},
   "outputs": [],
   "source": [
    "import re\n",
    "import matplotlib.pyplot as plt\n",
    "import pandas as pd \n",
    "import numpy as np\n",
    "import seaborn as sns\n",
    "#To ignore warning messages\n",
    "import warnings\n",
    "warnings.filterwarnings('ignore')\n",
    "#Importing the String module\n",
    "import string\n",
    "from nltk.corpus import stopwords"
   ]
  },
  {
   "cell_type": "code",
   "execution_count": 2,
   "id": "217439ff",
   "metadata": {},
   "outputs": [],
   "source": [
    "def extract_frequencies(filename):\n",
    "    d = dict()\n",
    "    with open(filename, \"r\") as f:\n",
    "        for line in f:\n",
    "            line = line.lower().rstrip().split(' ') # delete the blank at the end of the string\n",
    "            for word in line:\n",
    "                word = re.sub(r'\\W+', '', word) # delete sth like', and ()'\n",
    "                if word:\n",
    "                    d[word] = d.get(word, 0) + 1\n",
    "    return d\n",
    "\n",
    "def dump(dic, filename):\n",
    "    with open(filename, \"w\") as f:\n",
    "        for k, v in dic.items():\n",
    "            f.write(\"{},{}\\n\".format(k, v))"
   ]
  },
  {
   "cell_type": "code",
   "execution_count": 3,
   "id": "cf1a67ca",
   "metadata": {},
   "outputs": [],
   "source": [
    "frequencies = extract_frequencies(\"mobydick.txt\")"
   ]
  },
  {
   "cell_type": "code",
   "execution_count": 4,
   "id": "1b363093",
   "metadata": {},
   "outputs": [],
   "source": [
    "dump(frequencies, \"frequencies.csv\")"
   ]
  },
  {
   "cell_type": "code",
   "execution_count": 5,
   "id": "56817b17",
   "metadata": {},
   "outputs": [
    {
     "data": {
      "text/html": [
       "<div>\n",
       "<style scoped>\n",
       "    .dataframe tbody tr th:only-of-type {\n",
       "        vertical-align: middle;\n",
       "    }\n",
       "\n",
       "    .dataframe tbody tr th {\n",
       "        vertical-align: top;\n",
       "    }\n",
       "\n",
       "    .dataframe thead th {\n",
       "        text-align: right;\n",
       "    }\n",
       "</style>\n",
       "<table border=\"1\" class=\"dataframe\">\n",
       "  <thead>\n",
       "    <tr style=\"text-align: right;\">\n",
       "      <th></th>\n",
       "      <th>word</th>\n",
       "      <th>frequency</th>\n",
       "    </tr>\n",
       "  </thead>\n",
       "  <tbody>\n",
       "    <tr>\n",
       "      <th>0</th>\n",
       "      <td>moby</td>\n",
       "      <td>80</td>\n",
       "    </tr>\n",
       "    <tr>\n",
       "      <th>1</th>\n",
       "      <td>dick</td>\n",
       "      <td>77</td>\n",
       "    </tr>\n",
       "    <tr>\n",
       "      <th>2</th>\n",
       "      <td>or</td>\n",
       "      <td>711</td>\n",
       "    </tr>\n",
       "    <tr>\n",
       "      <th>3</th>\n",
       "      <td>the</td>\n",
       "      <td>14321</td>\n",
       "    </tr>\n",
       "    <tr>\n",
       "      <th>4</th>\n",
       "      <td>whale</td>\n",
       "      <td>955</td>\n",
       "    </tr>\n",
       "  </tbody>\n",
       "</table>\n",
       "</div>"
      ],
      "text/plain": [
       "    word  frequency\n",
       "0   moby         80\n",
       "1   dick         77\n",
       "2     or        711\n",
       "3    the      14321\n",
       "4  whale        955"
      ]
     },
     "execution_count": 5,
     "metadata": {},
     "output_type": "execute_result"
    }
   ],
   "source": [
    "col=['word', 'frequency']\n",
    "df = pd.read_csv(\"frequencies.csv\",names=col,header=None)\n",
    "df.head(5)"
   ]
  },
  {
   "cell_type": "code",
   "execution_count": 6,
   "id": "603e1f9c",
   "metadata": {},
   "outputs": [
    {
     "name": "stdout",
     "output_type": "stream",
     "text": [
      "Vocabulary size:  19,964\n",
      "Number of tokens: 212,029\n"
     ]
    }
   ],
   "source": [
    "vocabulary_size = df.shape[0]\n",
    "tokens_size = df['frequency'].sum()\n",
    "print(f'Vocabulary size: {vocabulary_size:>7,}\\nNumber of tokens: {tokens_size:,}')"
   ]
  },
  {
   "cell_type": "code",
   "execution_count": 7,
   "id": "fcf7f116",
   "metadata": {},
   "outputs": [],
   "source": [
    "def plot_word_frequency(df, top_n):\n",
    "    df.sort_values(\"frequency\",inplace=True,ascending=False)\n",
    "    df.head(top_n)\n",
    "    labels = df.iloc[:top_n, 0]\n",
    "    counts = df.iloc[:top_n, 1]\n",
    "    plt.figure(figsize=(15,5))\n",
    "    plt.title(\"Most Frequent Words in the Corpus\")\n",
    "    plt.ylabel(\"Count\")\n",
    "    plt.xlabel(\"Word\")\n",
    "    plot = sns.barplot(labels,counts)\n",
    "    return plot"
   ]
  },
  {
   "cell_type": "code",
   "execution_count": 8,
   "id": "35e09fe6",
   "metadata": {},
   "outputs": [
    {
     "data": {
      "text/plain": [
       "<AxesSubplot:title={'center':'Most Frequent Words in the Corpus'}, xlabel='word', ylabel='frequency'>"
      ]
     },
     "execution_count": 8,
     "metadata": {},
     "output_type": "execute_result"
    },
    {
     "data": {
      "image/png": "[encoded data removed]",
      "text/plain": [
       "<Figure size 1080x360 with 1 Axes>"
      ]
     },
     "metadata": {
      "needs_background": "light"
     },
     "output_type": "display_data"
    }
   ],
   "source": [
    "plot_word_frequency(df,20)"
   ]
  },
  {
   "cell_type": "markdown",
   "id": "6ac534a4",
   "metadata": {},
   "source": [
    "## Remove Stopwords"
   ]
  },
  {
   "cell_type": "code",
   "execution_count": 9,
   "id": "0ef38424",
   "metadata": {},
   "outputs": [],
   "source": [
    "def extract_frequencies_stopwords(filename):\n",
    "    d = dict()\n",
    "    with open(filename, \"r\") as f:\n",
    "        for line in f:\n",
    "            line = line.lower().rstrip().split(' ') # delete the blank at the end of the string\n",
    "            for word in line:\n",
    "                word = re.sub(r'\\W+', '', word) # delete sth like', and ()'\n",
    "                if word not in stopwords.words(\"english\"):\n",
    "                    d[word] = d.get(word, 0) + 1\n",
    "    return d"
   ]
  },
  {
   "cell_type": "code",
   "execution_count": 10,
   "id": "ebb11f6b",
   "metadata": {},
   "outputs": [],
   "source": [
    "frequencies_plus = extract_frequencies_stopwords(\"mobydick.txt\")"
   ]
  },
  {
   "cell_type": "code",
   "execution_count": 11,
   "id": "e5afa32e",
   "metadata": {},
   "outputs": [],
   "source": [
    "dump(frequencies_plus, \"frequencies_plus.csv\")"
   ]
  },
  {
   "cell_type": "code",
   "execution_count": 12,
   "id": "bb7e1c01",
   "metadata": {},
   "outputs": [
    {
     "data": {
      "text/html": [
       "<div>\n",
       "<style scoped>\n",
       "    .dataframe tbody tr th:only-of-type {\n",
       "        vertical-align: middle;\n",
       "    }\n",
       "\n",
       "    .dataframe tbody tr th {\n",
       "        vertical-align: top;\n",
       "    }\n",
       "\n",
       "    .dataframe thead th {\n",
       "        text-align: right;\n",
       "    }\n",
       "</style>\n",
       "<table border=\"1\" class=\"dataframe\">\n",
       "  <thead>\n",
       "    <tr style=\"text-align: right;\">\n",
       "      <th></th>\n",
       "      <th>word</th>\n",
       "      <th>frequency</th>\n",
       "    </tr>\n",
       "  </thead>\n",
       "  <tbody>\n",
       "    <tr>\n",
       "      <th>0</th>\n",
       "      <td>moby</td>\n",
       "      <td>80</td>\n",
       "    </tr>\n",
       "    <tr>\n",
       "      <th>1</th>\n",
       "      <td>dick</td>\n",
       "      <td>77</td>\n",
       "    </tr>\n",
       "    <tr>\n",
       "      <th>2</th>\n",
       "      <td>whale</td>\n",
       "      <td>955</td>\n",
       "    </tr>\n",
       "    <tr>\n",
       "      <th>3</th>\n",
       "      <td>NaN</td>\n",
       "      <td>9014</td>\n",
       "    </tr>\n",
       "    <tr>\n",
       "      <th>4</th>\n",
       "      <td>herman</td>\n",
       "      <td>2</td>\n",
       "    </tr>\n",
       "  </tbody>\n",
       "</table>\n",
       "</div>"
      ],
      "text/plain": [
       "     word  frequency\n",
       "0    moby         80\n",
       "1    dick         77\n",
       "2   whale        955\n",
       "3     NaN       9014\n",
       "4  herman          2"
      ]
     },
     "execution_count": 12,
     "metadata": {},
     "output_type": "execute_result"
    }
   ],
   "source": [
    "col=['word', 'frequency']\n",
    "df_plus = pd.read_csv(\"frequencies_plus.csv\",names=col,header=None)\n",
    "df_plus.head()"
   ]
  },
  {
   "cell_type": "code",
   "execution_count": 13,
   "id": "6858c0ad",
   "metadata": {},
   "outputs": [
    {
     "name": "stdout",
     "output_type": "stream",
     "text": [
      "Vocabulary size:  19,836\n",
      "Number of tokens: 117,783\n"
     ]
    }
   ],
   "source": [
    "vocabulary_size_plus = df_plus.shape[0]\n",
    "tokens_size_plus = df_plus['frequency'].sum()\n",
    "print(f'Vocabulary size: {vocabulary_size_plus:>7,}\\nNumber of tokens: {tokens_size_plus:,}')"
   ]
  },
  {
   "cell_type": "code",
   "execution_count": 14,
   "id": "39955081",
   "metadata": {},
   "outputs": [
    {
     "data": {
      "text/plain": [
       "<AxesSubplot:title={'center':'Most Frequent Words in the Corpus'}, xlabel='word', ylabel='frequency'>"
      ]
     },
     "execution_count": 14,
     "metadata": {},
     "output_type": "execute_result"
    },
    {
     "data": {
      "image/png": "[encoded data removed]",
      "text/plain": [
       "<Figure size 1080x360 with 1 Axes>"
      ]
     },
     "metadata": {
      "needs_background": "light"
     },
     "output_type": "display_data"
    }
   ],
   "source": [
    "plot_word_frequency(df_plus,20)"
   ]
  },
  {
   "cell_type": "code",
   "execution_count": null,
   "id": "14adf345",
   "metadata": {},
   "outputs": [],
   "source": []
  }
 ],
 "metadata": {
  "kernelspec": {
   "display_name": "pytorch",
   "language": "python",
   "name": "pytorch"
  },
  "language_info": {
   "codemirror_mode": {
    "name": "ipython",
    "version": 3
   },
   "file_extension": ".py",
   "mimetype": "text/x-python",
   "name": "python",
   "nbconvert_exporter": "python",
   "pygments_lexer": "ipython3",
   "version": "3.9.7"
  }
 },
 "nbformat": 4,
 "nbformat_minor": 5
}
